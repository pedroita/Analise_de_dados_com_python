{
 "cells": [
  {
   "cell_type": "code",
   "execution_count": 2,
   "id": "f96c4b45",
   "metadata": {},
   "outputs": [],
   "source": [
    "import csv\n",
    "import numpy as np\n",
    "import pandas as pd\n",
    "import matplotlib as mat"
   ]
  },
  {
   "cell_type": "code",
   "execution_count": 5,
   "id": "9195e902",
   "metadata": {},
   "outputs": [
    {
     "ename": "SyntaxError",
     "evalue": "incomplete input (3315082434.py, line 4)",
     "output_type": "error",
     "traceback": [
      "\u001b[1;36m  File \u001b[1;32m\"C:\\Users\\pedro.campos\\AppData\\Local\\Temp\\ipykernel_4720\\3315082434.py\"\u001b[1;36m, line \u001b[1;32m4\u001b[0m\n\u001b[1;33m    #print (linha)\u001b[0m\n\u001b[1;37m                  ^\u001b[0m\n\u001b[1;31mSyntaxError\u001b[0m\u001b[1;31m:\u001b[0m incomplete input\n"
     ]
    }
   ],
   "source": [
    "with open ('./imdb_clean.csv', mode='r')  as arquivo_csv:\n",
    "    leitor_csv = csv.reader(arquivo_csv)\n",
    "    for linha in leitor_csv:\n",
    "        #print (linha)"
   ]
  },
  {
   "cell_type": "code",
   "execution_count": 6,
   "id": "e1d67505",
   "metadata": {},
   "outputs": [],
   "source": [
    "cabecalho = None\n",
    "primeira_linha = None\n",
    "with open ('./imdb_clean.csv', mode='r')  as arquivo_csv:\n",
    "    leitor_csv = csv.reader(arquivo_csv)\n",
    "    cabecalho = next (leitor_csv)\n",
    "    primeira_linha = next(leitor_csv)\n",
    "    #for linha in leitor_csv:\n",
    "        #print (linha)\n",
    "#cabecalho,primeira_linha"
   ]
  },
  {
   "cell_type": "code",
   "execution_count": 3,
   "id": "32830faa",
   "metadata": {},
   "outputs": [],
   "source": [
    "df = pd.read_csv('./imdb_clean2.csv')"
   ]
  },
  {
   "cell_type": "code",
   "execution_count": 4,
   "id": "782f092c",
   "metadata": {},
   "outputs": [],
   "source": [
    "df_limpeza = df.dropna(subset=['title', 'release_year','runtime','genre','metascore'])"
   ]
  },
  {
   "cell_type": "code",
   "execution_count": 9,
   "id": "f7c668d7",
   "metadata": {},
   "outputs": [
    {
     "data": {
      "text/plain": [
       "Index(['Unnamed: 0', 'title', 'release_year', 'runtime', 'genre', 'rating',\n",
       "       'metascore', 'gross(M)'],\n",
       "      dtype='object')"
      ]
     },
     "execution_count": 9,
     "metadata": {},
     "output_type": "execute_result"
    }
   ],
   "source": [
    "df_limpeza.columns"
   ]
  },
  {
   "cell_type": "code",
   "execution_count": 10,
   "id": "362f4970",
   "metadata": {},
   "outputs": [
    {
     "data": {
      "text/plain": [
       "<bound method NDFrame.head of       Unnamed: 0                     title  release_year  runtime   genre  \\\n",
       "0              0  The Shawshank Redemption          1994      142   Drama   \n",
       "1              1             The Godfather          1972      175   Crime   \n",
       "2              1             The Godfather          1972      175   Drama   \n",
       "3              2           The Dark Knight          2008      152  Action   \n",
       "4              2           The Dark Knight          2008      152   Crime   \n",
       "...          ...                       ...           ...      ...     ...   \n",
       "2527         998         The Invisible Man          1933       71  Horror   \n",
       "2528         998         The Invisible Man          1933       71  Sci-Fi   \n",
       "2529         999                  Cell 211          2009      113  Action   \n",
       "2530         999                  Cell 211          2009      113   Crime   \n",
       "2531         999                  Cell 211          2009      113   Drama   \n",
       "\n",
       "      rating  metascore  gross(M)  \n",
       "0        9.3         82     28.34  \n",
       "1        9.2        100    134.97  \n",
       "2        9.2        100    134.97  \n",
       "3        9.0         84    534.86  \n",
       "4        9.0         84    534.86  \n",
       "...      ...        ...       ...  \n",
       "2527     7.6         87      0.00  \n",
       "2528     7.6         87      0.00  \n",
       "2529     7.6          0      0.00  \n",
       "2530     7.6          0      0.00  \n",
       "2531     7.6          0      0.00  \n",
       "\n",
       "[2532 rows x 8 columns]>"
      ]
     },
     "execution_count": 10,
     "metadata": {},
     "output_type": "execute_result"
    }
   ],
   "source": [
    "df_limpeza.head"
   ]
  },
  {
   "cell_type": "code",
   "execution_count": 11,
   "id": "a3e45f2e",
   "metadata": {},
   "outputs": [
    {
     "data": {
      "text/plain": [
       "<bound method NDFrame.describe of       Unnamed: 0                     title  release_year  runtime   genre  \\\n",
       "0              0  The Shawshank Redemption          1994      142   Drama   \n",
       "1              1             The Godfather          1972      175   Crime   \n",
       "2              1             The Godfather          1972      175   Drama   \n",
       "3              2           The Dark Knight          2008      152  Action   \n",
       "4              2           The Dark Knight          2008      152   Crime   \n",
       "...          ...                       ...           ...      ...     ...   \n",
       "2527         998         The Invisible Man          1933       71  Horror   \n",
       "2528         998         The Invisible Man          1933       71  Sci-Fi   \n",
       "2529         999                  Cell 211          2009      113  Action   \n",
       "2530         999                  Cell 211          2009      113   Crime   \n",
       "2531         999                  Cell 211          2009      113   Drama   \n",
       "\n",
       "      rating  metascore  gross(M)  \n",
       "0        9.3         82     28.34  \n",
       "1        9.2        100    134.97  \n",
       "2        9.2        100    134.97  \n",
       "3        9.0         84    534.86  \n",
       "4        9.0         84    534.86  \n",
       "...      ...        ...       ...  \n",
       "2527     7.6         87      0.00  \n",
       "2528     7.6         87      0.00  \n",
       "2529     7.6          0      0.00  \n",
       "2530     7.6          0      0.00  \n",
       "2531     7.6          0      0.00  \n",
       "\n",
       "[2532 rows x 8 columns]>"
      ]
     },
     "execution_count": 11,
     "metadata": {},
     "output_type": "execute_result"
    }
   ],
   "source": [
    "df.describe"
   ]
  },
  {
   "cell_type": "code",
   "execution_count": null,
   "id": "38169dc6",
   "metadata": {},
   "outputs": [],
   "source": []
  }
 ],
 "metadata": {
  "kernelspec": {
   "display_name": "Python 3 (ipykernel)",
   "language": "python",
   "name": "python3"
  },
  "language_info": {
   "codemirror_mode": {
    "name": "ipython",
    "version": 3
   },
   "file_extension": ".py",
   "mimetype": "text/x-python",
   "name": "python",
   "nbconvert_exporter": "python",
   "pygments_lexer": "ipython3",
   "version": "3.10.9"
  }
 },
 "nbformat": 4,
 "nbformat_minor": 5
}
